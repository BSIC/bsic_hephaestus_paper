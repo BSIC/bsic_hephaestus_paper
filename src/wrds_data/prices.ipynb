{
 "cells": [
  {
   "cell_type": "code",
   "execution_count": 4,
   "metadata": {},
   "outputs": [],
   "source": [
    "import pandas as pd\n",
    "import numpy as np"
   ]
  },
  {
   "cell_type": "markdown",
   "metadata": {},
   "source": [
    "# Get Constituents from 2010"
   ]
  },
  {
   "cell_type": "code",
   "execution_count": 22,
   "metadata": {},
   "outputs": [
    {
     "name": "stdout",
     "output_type": "stream",
     "text": [
      "<class 'pandas.core.frame.DataFrame'>\n",
      "Index: 811 entries, 1 to 1321\n",
      "Data columns (total 3 columns):\n",
      " #   Column  Non-Null Count  Dtype         \n",
      "---  ------  --------------  -----         \n",
      " 0   PERMNO  811 non-null    int64         \n",
      " 1   from    811 non-null    datetime64[ns]\n",
      " 2   thru    811 non-null    datetime64[ns]\n",
      "dtypes: datetime64[ns](2), int64(1)\n",
      "memory usage: 25.3 KB\n"
     ]
    }
   ],
   "source": [
    "constituents = pd.read_csv(\"../../data/SP500_constituents.csv\")\n",
    "constituents = constituents[[\"PERMNO\", \"from\", \"thru\"]]\n",
    "constituents[\"from\"] = pd.to_datetime(constituents[\"from\"])\n",
    "constituents[\"thru\"] = pd.to_datetime(constituents[\"thru\"])\n",
    "\n",
    "constituents = constituents[constituents[\"thru\"] >= \"2010-01-01\"]\n",
    "\n",
    "constituents.info()\n",
    "constituents.to_csv(\"sp500_constituents_2010.csv\", index=False)"
   ]
  },
  {
   "cell_type": "code",
   "execution_count": 23,
   "metadata": {},
   "outputs": [],
   "source": [
    "constituents[\"PERMNO\"].to_csv(\n",
    "    \"sp500_permnos_2010.csv\",\n",
    "    index=False,\n",
    ")"
   ]
  },
  {
   "cell_type": "markdown",
   "metadata": {},
   "source": [
    "# Process Price Data"
   ]
  },
  {
   "cell_type": "code",
   "execution_count": 6,
   "metadata": {},
   "outputs": [],
   "source": [
    "prices = pd.read_csv(\"../../data/prices_data.csv\")"
   ]
  },
  {
   "cell_type": "code",
   "execution_count": 8,
   "metadata": {},
   "outputs": [
    {
     "name": "stdout",
     "output_type": "stream",
     "text": [
      "<class 'pandas.core.frame.DataFrame'>\n",
      "RangeIndex: 3983889 entries, 0 to 3983888\n",
      "Data columns (total 33 columns):\n",
      " #   Column          Dtype  \n",
      "---  ------          -----  \n",
      " 0   PERMNO          int64  \n",
      " 1   SecInfoStartDt  object \n",
      " 2   SecInfoEndDt    object \n",
      " 3   SecurityBegDt   object \n",
      " 4   SecurityEndDt   object \n",
      " 5   SecurityNm      object \n",
      " 6   Ticker          object \n",
      " 7   PERMCO          int64  \n",
      " 8   SICCD           int64  \n",
      " 9   NAICS           int64  \n",
      " 10  ICBIndustry     object \n",
      " 11  YYYYMMDD        int64  \n",
      " 12  DlyCalDt        object \n",
      " 13  DlyPrc          float64\n",
      " 14  DlyPrcFlg       object \n",
      " 15  DlyCap          float64\n",
      " 16  DlyCapFlg       object \n",
      " 17  DlyPrevPrc      float64\n",
      " 18  DlyPrevPrcFlg   object \n",
      " 19  DlyPrevDt       object \n",
      " 20  DlyPrevCap      float64\n",
      " 21  DlyPrevCapFlg   object \n",
      " 22  DlyRetx         float64\n",
      " 23  DlyVol          float64\n",
      " 24  DlyClose        float64\n",
      " 25  DlyLow          float64\n",
      " 26  DlyHigh         float64\n",
      " 27  DlyBid          float64\n",
      " 28  DlyAsk          float64\n",
      " 29  DlyOpen         float64\n",
      " 30  DlyNumTrd       float64\n",
      " 31  DlyPrcVol       float64\n",
      " 32  ShrOut          float64\n",
      "dtypes: float64(15), int64(5), object(13)\n",
      "memory usage: 1003.0+ MB\n"
     ]
    }
   ],
   "source": [
    "prices.info()"
   ]
  },
  {
   "cell_type": "code",
   "execution_count": 10,
   "metadata": {},
   "outputs": [
    {
     "data": {
      "text/html": [
       "<div>\n",
       "<style scoped>\n",
       "    .dataframe tbody tr th:only-of-type {\n",
       "        vertical-align: middle;\n",
       "    }\n",
       "\n",
       "    .dataframe tbody tr th {\n",
       "        vertical-align: top;\n",
       "    }\n",
       "\n",
       "    .dataframe thead th {\n",
       "        text-align: right;\n",
       "    }\n",
       "</style>\n",
       "<table border=\"1\" class=\"dataframe\">\n",
       "  <thead>\n",
       "    <tr style=\"text-align: right;\">\n",
       "      <th></th>\n",
       "      <th>PERMNO</th>\n",
       "      <th>SecInfoStartDt</th>\n",
       "      <th>SecInfoEndDt</th>\n",
       "      <th>SecurityBegDt</th>\n",
       "      <th>SecurityEndDt</th>\n",
       "      <th>SecurityNm</th>\n",
       "      <th>Ticker</th>\n",
       "      <th>PERMCO</th>\n",
       "      <th>SICCD</th>\n",
       "      <th>NAICS</th>\n",
       "      <th>...</th>\n",
       "      <th>DlyVol</th>\n",
       "      <th>DlyClose</th>\n",
       "      <th>DlyLow</th>\n",
       "      <th>DlyHigh</th>\n",
       "      <th>DlyBid</th>\n",
       "      <th>DlyAsk</th>\n",
       "      <th>DlyOpen</th>\n",
       "      <th>DlyNumTrd</th>\n",
       "      <th>DlyPrcVol</th>\n",
       "      <th>ShrOut</th>\n",
       "    </tr>\n",
       "  </thead>\n",
       "  <tbody>\n",
       "    <tr>\n",
       "      <th>0</th>\n",
       "      <td>10078</td>\n",
       "      <td>1986-05-13</td>\n",
       "      <td>2004-06-09</td>\n",
       "      <td>1986-03-04</td>\n",
       "      <td>2010-01-26</td>\n",
       "      <td>SUN MICROSYSTEMS INC; COM NONE; CONS</td>\n",
       "      <td>SUNW</td>\n",
       "      <td>8021</td>\n",
       "      <td>3570</td>\n",
       "      <td>0</td>\n",
       "      <td>...</td>\n",
       "      <td>15270527.0</td>\n",
       "      <td>76.500</td>\n",
       "      <td>74.500</td>\n",
       "      <td>79.375</td>\n",
       "      <td>76.4375</td>\n",
       "      <td>76.5000</td>\n",
       "      <td>79.2500</td>\n",
       "      <td>26427.0</td>\n",
       "      <td>1.168195e+09</td>\n",
       "      <td>1561106.0</td>\n",
       "    </tr>\n",
       "    <tr>\n",
       "      <th>1</th>\n",
       "      <td>10078</td>\n",
       "      <td>1986-05-13</td>\n",
       "      <td>2004-06-09</td>\n",
       "      <td>1986-03-04</td>\n",
       "      <td>2010-01-26</td>\n",
       "      <td>SUN MICROSYSTEMS INC; COM NONE; CONS</td>\n",
       "      <td>SUNW</td>\n",
       "      <td>8021</td>\n",
       "      <td>3570</td>\n",
       "      <td>0</td>\n",
       "      <td>...</td>\n",
       "      <td>21098710.0</td>\n",
       "      <td>71.750</td>\n",
       "      <td>71.500</td>\n",
       "      <td>75.250</td>\n",
       "      <td>71.7500</td>\n",
       "      <td>71.7500</td>\n",
       "      <td>73.4375</td>\n",
       "      <td>32108.0</td>\n",
       "      <td>1.513832e+09</td>\n",
       "      <td>1561106.0</td>\n",
       "    </tr>\n",
       "    <tr>\n",
       "      <th>2</th>\n",
       "      <td>10078</td>\n",
       "      <td>1986-05-13</td>\n",
       "      <td>2004-06-09</td>\n",
       "      <td>1986-03-04</td>\n",
       "      <td>2010-01-26</td>\n",
       "      <td>SUN MICROSYSTEMS INC; COM NONE; CONS</td>\n",
       "      <td>SUNW</td>\n",
       "      <td>8021</td>\n",
       "      <td>3570</td>\n",
       "      <td>0</td>\n",
       "      <td>...</td>\n",
       "      <td>30073258.0</td>\n",
       "      <td>71.875</td>\n",
       "      <td>66.625</td>\n",
       "      <td>73.500</td>\n",
       "      <td>71.8750</td>\n",
       "      <td>71.9375</td>\n",
       "      <td>70.1250</td>\n",
       "      <td>49741.0</td>\n",
       "      <td>2.161515e+09</td>\n",
       "      <td>1561106.0</td>\n",
       "    </tr>\n",
       "    <tr>\n",
       "      <th>3</th>\n",
       "      <td>10078</td>\n",
       "      <td>1986-05-13</td>\n",
       "      <td>2004-06-09</td>\n",
       "      <td>1986-03-04</td>\n",
       "      <td>2010-01-26</td>\n",
       "      <td>SUN MICROSYSTEMS INC; COM NONE; CONS</td>\n",
       "      <td>SUNW</td>\n",
       "      <td>8021</td>\n",
       "      <td>3570</td>\n",
       "      <td>0</td>\n",
       "      <td>...</td>\n",
       "      <td>22741999.0</td>\n",
       "      <td>68.000</td>\n",
       "      <td>67.000</td>\n",
       "      <td>71.875</td>\n",
       "      <td>68.0000</td>\n",
       "      <td>68.0000</td>\n",
       "      <td>70.4375</td>\n",
       "      <td>30663.0</td>\n",
       "      <td>1.546456e+09</td>\n",
       "      <td>1561106.0</td>\n",
       "    </tr>\n",
       "    <tr>\n",
       "      <th>4</th>\n",
       "      <td>10078</td>\n",
       "      <td>1986-05-13</td>\n",
       "      <td>2004-06-09</td>\n",
       "      <td>1986-03-04</td>\n",
       "      <td>2010-01-26</td>\n",
       "      <td>SUN MICROSYSTEMS INC; COM NONE; CONS</td>\n",
       "      <td>SUNW</td>\n",
       "      <td>8021</td>\n",
       "      <td>3570</td>\n",
       "      <td>0</td>\n",
       "      <td>...</td>\n",
       "      <td>20450260.0</td>\n",
       "      <td>71.875</td>\n",
       "      <td>66.750</td>\n",
       "      <td>72.000</td>\n",
       "      <td>71.8125</td>\n",
       "      <td>71.8750</td>\n",
       "      <td>67.1875</td>\n",
       "      <td>34162.0</td>\n",
       "      <td>1.469862e+09</td>\n",
       "      <td>1561106.0</td>\n",
       "    </tr>\n",
       "  </tbody>\n",
       "</table>\n",
       "<p>5 rows × 33 columns</p>\n",
       "</div>"
      ],
      "text/plain": [
       "   PERMNO SecInfoStartDt SecInfoEndDt SecurityBegDt SecurityEndDt  \\\n",
       "0   10078     1986-05-13   2004-06-09    1986-03-04    2010-01-26   \n",
       "1   10078     1986-05-13   2004-06-09    1986-03-04    2010-01-26   \n",
       "2   10078     1986-05-13   2004-06-09    1986-03-04    2010-01-26   \n",
       "3   10078     1986-05-13   2004-06-09    1986-03-04    2010-01-26   \n",
       "4   10078     1986-05-13   2004-06-09    1986-03-04    2010-01-26   \n",
       "\n",
       "                             SecurityNm Ticker  PERMCO  SICCD  NAICS  ...  \\\n",
       "0  SUN MICROSYSTEMS INC; COM NONE; CONS   SUNW    8021   3570      0  ...   \n",
       "1  SUN MICROSYSTEMS INC; COM NONE; CONS   SUNW    8021   3570      0  ...   \n",
       "2  SUN MICROSYSTEMS INC; COM NONE; CONS   SUNW    8021   3570      0  ...   \n",
       "3  SUN MICROSYSTEMS INC; COM NONE; CONS   SUNW    8021   3570      0  ...   \n",
       "4  SUN MICROSYSTEMS INC; COM NONE; CONS   SUNW    8021   3570      0  ...   \n",
       "\n",
       "       DlyVol  DlyClose  DlyLow  DlyHigh   DlyBid   DlyAsk  DlyOpen  \\\n",
       "0  15270527.0    76.500  74.500   79.375  76.4375  76.5000  79.2500   \n",
       "1  21098710.0    71.750  71.500   75.250  71.7500  71.7500  73.4375   \n",
       "2  30073258.0    71.875  66.625   73.500  71.8750  71.9375  70.1250   \n",
       "3  22741999.0    68.000  67.000   71.875  68.0000  68.0000  70.4375   \n",
       "4  20450260.0    71.875  66.750   72.000  71.8125  71.8750  67.1875   \n",
       "\n",
       "   DlyNumTrd     DlyPrcVol     ShrOut  \n",
       "0    26427.0  1.168195e+09  1561106.0  \n",
       "1    32108.0  1.513832e+09  1561106.0  \n",
       "2    49741.0  2.161515e+09  1561106.0  \n",
       "3    30663.0  1.546456e+09  1561106.0  \n",
       "4    34162.0  1.469862e+09  1561106.0  \n",
       "\n",
       "[5 rows x 33 columns]"
      ]
     },
     "execution_count": 10,
     "metadata": {},
     "output_type": "execute_result"
    }
   ],
   "source": [
    "prices.head()"
   ]
  },
  {
   "cell_type": "code",
   "execution_count": 12,
   "metadata": {},
   "outputs": [],
   "source": [
    "prices[\"NAICS_2\"] = prices[\"NAICS\"].astype(str).str[:3].astype(int)"
   ]
  },
  {
   "cell_type": "code",
   "execution_count": 13,
   "metadata": {},
   "outputs": [
    {
     "data": {
      "text/plain": [
       "PERMNO                  0\n",
       "SecInfoStartDt          0\n",
       "SecInfoEndDt            0\n",
       "SecurityBegDt           0\n",
       "SecurityEndDt           0\n",
       "SecurityNm              0\n",
       "Ticker               1418\n",
       "PERMCO                  0\n",
       "SICCD                   0\n",
       "NAICS                   0\n",
       "ICBIndustry             0\n",
       "YYYYMMDD                0\n",
       "DlyCalDt                0\n",
       "DlyPrc               1173\n",
       "DlyPrcFlg               0\n",
       "DlyCap               1473\n",
       "DlyCapFlg               0\n",
       "DlyPrevPrc           1440\n",
       "DlyPrevPrcFlg        1173\n",
       "DlyPrevDt            1440\n",
       "DlyPrevCap           1440\n",
       "DlyPrevCapFlg        1173\n",
       "DlyRetx              1443\n",
       "DlyVol               1474\n",
       "DlyClose            14731\n",
       "DlyLow              14731\n",
       "DlyHigh             14731\n",
       "DlyBid              57383\n",
       "DlyAsk              57383\n",
       "DlyOpen             19808\n",
       "DlyNumTrd         2970055\n",
       "DlyPrcVol            1475\n",
       "ShrOut                300\n",
       "NAICS_2                 0\n",
       "dtype: int64"
      ]
     },
     "execution_count": 13,
     "metadata": {},
     "output_type": "execute_result"
    }
   ],
   "source": [
    "prices[\"PERMNO\"].unique().shape\n",
    "\n",
    "prices.isna().sum()"
   ]
  },
  {
   "cell_type": "code",
   "execution_count": 14,
   "metadata": {},
   "outputs": [
    {
     "name": "stdout",
     "output_type": "stream",
     "text": [
      "(469,)\n",
      "(529,)\n",
      "(12,)\n"
     ]
    }
   ],
   "source": [
    "for i in [\"SICCD\", \"NAICS\", \"ICBIndustry\"]:\n",
    "    print(prices[i].unique().shape)\n",
    "    # print(pricesdata2[i].unique())"
   ]
  }
 ],
 "metadata": {
  "kernelspec": {
   "display_name": "bsic",
   "language": "python",
   "name": "python3"
  },
  "language_info": {
   "codemirror_mode": {
    "name": "ipython",
    "version": 3
   },
   "file_extension": ".py",
   "mimetype": "text/x-python",
   "name": "python",
   "nbconvert_exporter": "python",
   "pygments_lexer": "ipython3",
   "version": "3.12.1"
  }
 },
 "nbformat": 4,
 "nbformat_minor": 2
}
